{
 "cells": [
  {
   "cell_type": "markdown",
   "metadata": {},
   "source": [
    "# DARE Summer School, Atmospheric modelling\n",
    "\n",
    "Mark Lunt (mark.lunt@ed.ac.uk)\n",
    "\n",
    "## Contents\n",
    "\n",
    "This notebook examines the variations of methane in the atmosphere. By the end of the exercise you should have a better understanding of:\n",
    "1. The use of simple box models to interpret variations in atmospheric compostion\n",
    "2. The contributions of sources and sinks to recent atmospheric methane growth\n",
    "3. How a box model can be used to model the impact of policy initiatives \n",
    "\n",
    "**To run the code below:**\n",
    "1. Click on the cell you wish to run\n",
    "2. Press SHIFT+ENTER on your keyboard or press the Run button in the toolbar above\n",
    "3. A '#' at the beginning of a line denotes a comment, which will not be interpreted when running the code.\n",
    "\n",
    "The code is written in Python. No expertise is required, although you will need to write some simple lines of code to answer some of the questions. **Questions are in bold.**\n",
    "\n",
    "To start, run the cell below to import the Python packages that are necessary to run the code and to initialize the box model."
   ]
  },
  {
   "cell_type": "code",
   "execution_count": 1,
   "metadata": {},
   "outputs": [],
   "source": [
    "import box_model\n",
    "import numpy as np"
   ]
  },
  {
   "cell_type": "code",
   "execution_count": 2,
   "metadata": {},
   "outputs": [
    {
     "name": "stdout",
     "output_type": "stream",
     "text": [
      "Help on module box_model:\n",
      "\n",
      "NAME\n",
      "    box_model - A module to setup box model for DARE Summer School practical\n",
      "\n",
      "DESCRIPTION\n",
      "    Created on Mon Jul  4 16:00:57 2022\n",
      "    \n",
      "    @author: mlunt\n",
      "\n",
      "FUNCTIONS\n",
      "    get_noaa_data()\n",
      "        Retrieve NOAA CH4 data from 2005-2022 \n",
      "        Returns:\n",
      "            ch4_obs: NOAA global mean CH4 data from January each year 2005-2022 inclusive.\n",
      "            years: numpy array of integers 2005-2022\n",
      "    \n",
      "    model(years, m0, emis, k)\n",
      "        Run global box model of CH4 concentration\n",
      "        Args:\n",
      "            years: Array of integer years (numpy array)\n",
      "            m0: Initial CH4 mole fraction in ppb (scalar)\n",
      "            emis: CH4 emissions. Either np array of len(nyears) or a scalar\n",
      "            k: Loss rate of methane. Either np array of len(nyears) or a scalar\n",
      "        Returns:\n",
      "            m_ppb: Array len(nyears) of CH4 concentration\n",
      "    \n",
      "    plot_model(years, m)\n",
      "        Plot the CH4 concentration as a function of time\n",
      "        Args:\n",
      "            years: Array of integer years (numpy array)\n",
      "            m: CH4 mole fraction in ppb (numpy array)\n",
      "\n",
      "DATA\n",
      "    atm_convert = 2.767\n",
      "\n",
      "FILE\n",
      "    /home/mlunt/DARE_SS/box_model.py\n",
      "\n",
      "\n"
     ]
    }
   ],
   "source": [
    "help(box_model)"
   ]
  },
  {
   "cell_type": "markdown",
   "metadata": {},
   "source": [
    "The box model is based on the following:\n",
    "\n",
    "Equation 1:\n",
    "$\\frac{dm}{dt} = E - km$      \n",
    "\n",
    "Equation 2:\n",
    "$m_{[t]} = m_{[0]} e^{-kt} + \\frac{E}{k} (1 - e^{-kt})$                           \n",
    "\n",
    "This describes the change of mass in the box over time as a function of the sources and sinks.\n",
    "\n",
    "First lets set up the model with some initial parameters. These include the number of years to calculate, the initial concentration, a fixed emissions rate and a fixed lifetime. "
   ]
  },
  {
   "cell_type": "code",
   "execution_count": 3,
   "metadata": {},
   "outputs": [],
   "source": [
    "years = np.arange(0, 100)   # Array of years - np.arange creates a sequence between (lower,upper,step) Step = 1 if unspecified \n",
    "ch4_initial =0    # Initital CH4 concentration in ppb\n",
    "emis = 400.    # Fixed emissions rate in Tg/yr\n",
    "lifetime = 10.    # CH4 lifetime in years\n",
    "k=1/lifetime      # Loss rate as 1/lifetime\n"
   ]
  },
  {
   "cell_type": "markdown",
   "metadata": {},
   "source": [
    "Now run the model with these parameters by running the cell below and plot the output:"
   ]
  },
  {
   "cell_type": "code",
   "execution_count": 4,
   "metadata": {},
   "outputs": [
    {
     "name": "stdout",
     "output_type": "stream",
     "text": [
      "[1445.43056046 1445.44753768 1445.46289931 1445.47679909 1445.48937612\n",
      " 1445.5007563  1445.51105351 1445.52037081 1445.52880145 1445.53642981]\n"
     ]
    },
    {
     "data": {
      "image/png": "[encoded data removed]",
      "text/plain": [
       "<Figure size 432x288 with 1 Axes>"
      ]
     },
     "metadata": {
      "needs_background": "light"
     },
     "output_type": "display_data"
    }
   ],
   "source": [
    "ch4 = box_model.model(years, ch4_initial, emis,k)\n",
    "\n",
    "box_model.plot_model(years,ch4)\n",
    "print(ch4[-10:])"
   ]
  },
  {
   "cell_type": "markdown",
   "metadata": {},
   "source": [
    "You should see that given a constant emissions rate and constant lifetime the model tends towards a steady state value where dm/dt = 0. \n",
    "\n",
    "**Try varying the emissions rate, lifetime and initial CH4 concentration. How does this affect the steady state value and the time taken to reach it?** \n",
    "\n",
    "Between 2000-2006 the atmospheric growth rate of methane was roughly zero indicating steady state at a concentration of around 1775 ppb. Emissions during this period are estimated to be around 540 Tg. \n",
    "\n",
    "**Tune the model CH4 lifetime so that a steady state concentration of 1775 ppb is achieved given an emissions rate of 540 Tg/yr.**\n",
    "\n",
    "**What is the value of this methane lifetime?**\n"
   ]
  },
  {
   "cell_type": "code",
   "execution_count": null,
   "metadata": {},
   "outputs": [],
   "source": []
  },
  {
   "cell_type": "markdown",
   "metadata": {},
   "source": [
    "The pre-industrial methane concentration was around 775 ppb in 1850. With your tuned value of lifetime, **how many years does it take for CH4 levels to approach 1775 ppb?** \n",
    "\n",
    "**Why in reality did it take longer?** \n",
    "\n",
    "**How would you adapt the model inputs to provide a more realistic evolution of CH4 concentration over time?** "
   ]
  },
  {
   "cell_type": "code",
   "execution_count": null,
   "metadata": {},
   "outputs": [],
   "source": []
  },
  {
   "cell_type": "markdown",
   "metadata": {},
   "source": [
    "## Calculating recent emissions\n",
    "\n",
    "We can rearrange equation 2 to express the emissions required to result in a change of emissions over time.\n",
    "\n",
    "Equation 3:\n",
    "$ E = k \\frac{ (m_{[t]} - m_{[0]}e^{-kt}) } {(1 - e^{-kt})}$\n",
    "\n",
    "For instance, the code below calculates the constant emissions rate needed to increase the mole fraction from 1775 ppb to 1825 ppb over a period of 10 years.  \n",
    "\n"
   ]
  },
  {
   "cell_type": "code",
   "execution_count": 5,
   "metadata": {},
   "outputs": [
    {
     "name": "stdout",
     "output_type": "stream",
     "text": [
      "8.053684658011175\n"
     ]
    }
   ],
   "source": [
    "atm_convert = 2.7677 # Tg/ppb\n",
    "E = k *atm_convert * (1825-1775) * np.exp(-10*k) / (1 - np.exp(-10*k))\n",
    "print (E)"
   ]
  },
  {
   "cell_type": "markdown",
   "metadata": {},
   "source": [
    "We can read in some recent global mean atmospheric CH4 data from the NOAA network using the code in the cell below. The data are the monthly means from January of each year between 2005 and 2022 inclusive.  \n",
    "\n",
    "**Adapt the equation in the cell above to calculate the annual emission in each year from 2005 to 2021.** The lifetime should be the same value you calculated earlier.\n",
    " "
   ]
  },
  {
   "cell_type": "code",
   "execution_count": 6,
   "metadata": {},
   "outputs": [
    {
     "name": "stdout",
     "output_type": "stream",
     "text": [
      "[1776.  1779.5 1779.2 1786.8 1795.1 1797.1 1800.5 1807.3 1814.1 1816.9\n",
      " 1832.9 1842.5 1849.8 1854.5 1865.  1874.  1890.7 1908.9]\n",
      "[2005 2006 2007 2008 2009 2010 2011 2012 2013 2014 2015 2016 2017 2018\n",
      " 2019 2020 2021 2022]\n"
     ]
    }
   ],
   "source": [
    "ch4_noaa, noaa_years = box_model.get_noaa_data()\n",
    "\n",
    "print(ch4_noaa) \n",
    "print(noaa_years)\n",
    "\n",
    "# Calculate 2005-2021 emissions here:\n",
    "# Hint - you will need to define E as an array\n",
    "\n"
   ]
  },
  {
   "cell_type": "markdown",
   "metadata": {},
   "source": [
    "The recent growth of atmospheric methane in 2020 and 2021 is the subject of current debate and study. Hopefully you will have quantified the change in global emissions required to increase the atmospheric concentration from 2019 to the values seen in 2020 and 2021. \n",
    "\n",
    "What impact would changing the sink have? Use and edit the code below to keep 2019 emissions constant in 2020 and 2021 but vary the loss rate, k. **How much would the lifetime need to increase by to explain the observed changes in 2020 and 2021?**  \n",
    "\n"
   ]
  },
  {
   "cell_type": "code",
   "execution_count": 7,
   "metadata": {},
   "outputs": [
    {
     "ename": "IndexError",
     "evalue": "invalid index to scalar variable.",
     "output_type": "error",
     "traceback": [
      "\u001b[0;31m---------------------------------------------------------------------------\u001b[0m",
      "\u001b[0;31mIndexError\u001b[0m                                Traceback (most recent call last)",
      "\u001b[0;32m<ipython-input-7-797409b89aeb>\u001b[0m in \u001b[0;36m<module>\u001b[0;34m\u001b[0m\n\u001b[1;32m      3\u001b[0m \u001b[0mlifetime_2020\u001b[0m \u001b[0;34m=\u001b[0m \u001b[0mlifetime_2019\u001b[0m\u001b[0;34m*\u001b[0m\u001b[0;36m1.05\u001b[0m\u001b[0;34m\u001b[0m\u001b[0;34m\u001b[0m\u001b[0m\n\u001b[1;32m      4\u001b[0m \u001b[0mlifetime_2021\u001b[0m \u001b[0;34m=\u001b[0m \u001b[0mlifetime_2019\u001b[0m\u001b[0;34m*\u001b[0m\u001b[0;36m1.05\u001b[0m\u001b[0;34m\u001b[0m\u001b[0;34m\u001b[0m\u001b[0m\n\u001b[0;32m----> 5\u001b[0;31m \u001b[0memis_2019\u001b[0m  \u001b[0;34m=\u001b[0m \u001b[0mE\u001b[0m\u001b[0;34m[\u001b[0m\u001b[0;34m-\u001b[0m\u001b[0;36m2\u001b[0m\u001b[0;34m]\u001b[0m   \u001b[0;31m# The negative index indicates the 2nd index from the end. If 2021 is the final index [-1], 2020 is [-2]\u001b[0m\u001b[0;34m\u001b[0m\u001b[0;34m\u001b[0m\u001b[0m\n\u001b[0m\u001b[1;32m      6\u001b[0m \u001b[0;34m\u001b[0m\u001b[0m\n\u001b[1;32m      7\u001b[0m \u001b[0mk_array\u001b[0m \u001b[0;34m=\u001b[0m \u001b[0mnp\u001b[0m\u001b[0;34m.\u001b[0m\u001b[0masarray\u001b[0m\u001b[0;34m(\u001b[0m\u001b[0;34m[\u001b[0m\u001b[0;36m1\u001b[0m\u001b[0;34m/\u001b[0m\u001b[0mlifetime_2020\u001b[0m\u001b[0;34m,\u001b[0m \u001b[0;36m1\u001b[0m\u001b[0;34m/\u001b[0m\u001b[0mlifetime_2021\u001b[0m\u001b[0;34m]\u001b[0m\u001b[0;34m)\u001b[0m\u001b[0;34m\u001b[0m\u001b[0;34m\u001b[0m\u001b[0m\n",
      "\u001b[0;31mIndexError\u001b[0m: invalid index to scalar variable."
     ]
    }
   ],
   "source": [
    "years = np.arange(2019, 2022)\n",
    "lifetime_2019 = lifetime\n",
    "lifetime_2020 = lifetime_2019*1.05\n",
    "lifetime_2021 = lifetime_2019*1.05\n",
    "emis_2019  = E[-2]   # The negative index indicates the 2nd index from the end. If 2021 is the final index [-1], 2020 is [-2]\n",
    "\n",
    "k_array = np.asarray([1/lifetime_2020, 1/lifetime_2021])\n",
    "\n",
    "# Run model with temporally variant loss rate, k\n",
    "ch4 = box_model.model(years, ch4_noaa[-3], emis_2019,k_array)\n",
    "\n",
    "print(ch4)\n",
    "print(ch4_noaa[-3:]) # This statement prints the final 3 indices of the ch4_noaa array"
   ]
  },
  {
   "cell_type": "markdown",
   "metadata": {},
   "source": [
    "**What reason might there be for a change in lifetime in 2020?** \n",
    "\n",
    "**Assuming that 2021 conditions returned to the same as 2019, can the sink alone explain the 2021 growth rate?**\n",
    "\n",
    "What additional information or data might help explain the CH4 growth rate in 2020 and 2021?"
   ]
  },
  {
   "cell_type": "markdown",
   "metadata": {},
   "source": [
    "## Global methane pledge\n",
    "\n",
    "The global methane pledge aims to reduce global anthropogenic methane emissions by 30% by 2030 relative to 2020 emissions. \n",
    "\n",
    "1. Assume anthropogenic emissions were around 400 Tg in 2020.\n",
    "2. Assume a gradual decrease in emissions of 3% per year over the next 10 years. \n",
    "3. Assume natural emissions and sinks remain unchanged.\n",
    "\n",
    "**How does the global methane concentration evolve between 2020 and 2030?** \n",
    "\n",
    "Assume emissions stay at 2030 levels until 2050. **What happens to methane levels by 2050?**\n",
    "\n",
    "**What is the new steady state methane concentration?** \n",
    "\n",
    "**What impact will a 10-year delay in reductions have, assuming anthropogenic emissions stay constant between 2020 to 2030?**\n",
    "\n",
    "Some example code is below to help you, but you will need to edit it."
   ]
  },
  {
   "cell_type": "code",
   "execution_count": 24,
   "metadata": {},
   "outputs": [
    {
     "data": {
      "image/png": "[encoded data removed]",
      "text/plain": [
       "<Figure size 432x288 with 1 Axes>"
      ]
     },
     "metadata": {
      "needs_background": "light"
     },
     "output_type": "display_data"
    }
   ],
   "source": [
    "future_years = np.arange(2020,2031)\n",
    "nyears = len(future_years)\n",
    "ch4_2020 = ch4_noaa[-3]\n",
    "emis_2020 = 600\n",
    "emis_future = np.zeros((nyears))\n",
    "emis_future[0] = emis_2020\n",
    "emis_anth = 400\n",
    "\n",
    "# Write a loop to define future emissions\n",
    "for ti in range(10):\n",
    "    emis_future[ti+1] = emis_future[ti] - 0.03*emis_anth\n",
    "\n",
    "# Run box model with temporally variant emissions:\n",
    "ch4_future = box_model.model(future_years, ch4_2020, emis_future,k)\n",
    "\n",
    "box_model.plot_model(future_years,ch4_future)\n"
   ]
  },
  {
   "cell_type": "code",
   "execution_count": 25,
   "metadata": {},
   "outputs": [
    {
     "name": "stdout",
     "output_type": "stream",
     "text": [
      "[1874.         1902.01714351 1923.24106686 1938.31823043 1947.83357574\n",
      " 1952.31637978 1952.24555217 1948.05442826 1940.13510607 1928.84237059\n",
      " 1914.49724454]\n"
     ]
    }
   ],
   "source": [
    "print(ch4_future)"
   ]
  },
  {
   "cell_type": "code",
   "execution_count": 19,
   "metadata": {},
   "outputs": [
    {
     "data": {
      "text/plain": [
       "1874.0"
      ]
     },
     "execution_count": 19,
     "metadata": {},
     "output_type": "execute_result"
    }
   ],
   "source": []
  },
  {
   "cell_type": "code",
   "execution_count": null,
   "metadata": {},
   "outputs": [],
   "source": []
  }
 ],
 "metadata": {
  "kernelspec": {
   "display_name": "Python 3",
   "language": "python",
   "name": "python3"
  },
  "language_info": {
   "codemirror_mode": {
    "name": "ipython",
    "version": 3
   },
   "file_extension": ".py",
   "mimetype": "text/x-python",
   "name": "python",
   "nbconvert_exporter": "python",
   "pygments_lexer": "ipython3",
   "version": "3.6.8"
  }
 },
 "nbformat": 4,
 "nbformat_minor": 2
}
